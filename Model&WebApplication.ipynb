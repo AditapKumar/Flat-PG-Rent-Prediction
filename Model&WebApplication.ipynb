{
  "cells": [
    {
      "cell_type": "code",
      "execution_count": null,
      "metadata": {
        "colab": {
          "base_uri": "https://localhost:8080/"
        },
        "collapsed": true,
        "id": "77JMFWJ-oKpv",
        "outputId": "cfc39be2-5403-476c-80e1-9c63739b9df1"
      },
      "outputs": [
        {
          "name": "stdout",
          "output_type": "stream",
          "text": [
            "Requirement already satisfied: streamlit in /usr/local/lib/python3.10/dist-packages (1.36.0)\n",
            "Requirement already satisfied: altair<6,>=4.0 in /usr/local/lib/python3.10/dist-packages (from streamlit) (4.2.2)\n",
            "Requirement already satisfied: blinker<2,>=1.0.0 in /usr/lib/python3/dist-packages (from streamlit) (1.4)\n",
            "Requirement already satisfied: cachetools<6,>=4.0 in /usr/local/lib/python3.10/dist-packages (from streamlit) (5.3.3)\n",
            "Requirement already satisfied: click<9,>=7.0 in /usr/local/lib/python3.10/dist-packages (from streamlit) (8.1.7)\n",
            "Requirement already satisfied: numpy<3,>=1.20 in /usr/local/lib/python3.10/dist-packages (from streamlit) (1.25.2)\n",
            "Requirement already satisfied: packaging<25,>=20 in /usr/local/lib/python3.10/dist-packages (from streamlit) (24.1)\n",
            "Requirement already satisfied: pandas<3,>=1.3.0 in /usr/local/lib/python3.10/dist-packages (from streamlit) (2.0.3)\n",
            "Requirement already satisfied: pillow<11,>=7.1.0 in /usr/local/lib/python3.10/dist-packages (from streamlit) (9.4.0)\n",
            "Requirement already satisfied: protobuf<6,>=3.20 in /usr/local/lib/python3.10/dist-packages (from streamlit) (3.20.3)\n",
            "Requirement already satisfied: pyarrow>=7.0 in /usr/local/lib/python3.10/dist-packages (from streamlit) (14.0.2)\n",
            "Requirement already satisfied: requests<3,>=2.27 in /usr/local/lib/python3.10/dist-packages (from streamlit) (2.31.0)\n",
            "Requirement already satisfied: rich<14,>=10.14.0 in /usr/local/lib/python3.10/dist-packages (from streamlit) (13.7.1)\n",
            "Requirement already satisfied: tenacity<9,>=8.1.0 in /usr/local/lib/python3.10/dist-packages (from streamlit) (8.4.2)\n",
            "Requirement already satisfied: toml<2,>=0.10.1 in /usr/local/lib/python3.10/dist-packages (from streamlit) (0.10.2)\n",
            "Requirement already satisfied: typing-extensions<5,>=4.3.0 in /usr/local/lib/python3.10/dist-packages (from streamlit) (4.12.2)\n",
            "Requirement already satisfied: gitpython!=3.1.19,<4,>=3.0.7 in /usr/local/lib/python3.10/dist-packages (from streamlit) (3.1.43)\n",
            "Requirement already satisfied: pydeck<1,>=0.8.0b4 in /usr/local/lib/python3.10/dist-packages (from streamlit) (0.9.1)\n",
            "Requirement already satisfied: tornado<7,>=6.0.3 in /usr/local/lib/python3.10/dist-packages (from streamlit) (6.3.3)\n",
            "Requirement already satisfied: watchdog<5,>=2.1.5 in /usr/local/lib/python3.10/dist-packages (from streamlit) (4.0.1)\n",
            "Requirement already satisfied: entrypoints in /usr/local/lib/python3.10/dist-packages (from altair<6,>=4.0->streamlit) (0.4)\n",
            "Requirement already satisfied: jinja2 in /usr/local/lib/python3.10/dist-packages (from altair<6,>=4.0->streamlit) (3.1.4)\n",
            "Requirement already satisfied: jsonschema>=3.0 in /usr/local/lib/python3.10/dist-packages (from altair<6,>=4.0->streamlit) (4.19.2)\n",
            "Requirement already satisfied: toolz in /usr/local/lib/python3.10/dist-packages (from altair<6,>=4.0->streamlit) (0.12.1)\n",
            "Requirement already satisfied: gitdb<5,>=4.0.1 in /usr/local/lib/python3.10/dist-packages (from gitpython!=3.1.19,<4,>=3.0.7->streamlit) (4.0.11)\n",
            "Requirement already satisfied: python-dateutil>=2.8.2 in /usr/local/lib/python3.10/dist-packages (from pandas<3,>=1.3.0->streamlit) (2.8.2)\n",
            "Requirement already satisfied: pytz>=2020.1 in /usr/local/lib/python3.10/dist-packages (from pandas<3,>=1.3.0->streamlit) (2023.4)\n",
            "Requirement already satisfied: tzdata>=2022.1 in /usr/local/lib/python3.10/dist-packages (from pandas<3,>=1.3.0->streamlit) (2024.1)\n",
            "Requirement already satisfied: charset-normalizer<4,>=2 in /usr/local/lib/python3.10/dist-packages (from requests<3,>=2.27->streamlit) (3.3.2)\n",
            "Requirement already satisfied: idna<4,>=2.5 in /usr/local/lib/python3.10/dist-packages (from requests<3,>=2.27->streamlit) (3.7)\n",
            "Requirement already satisfied: urllib3<3,>=1.21.1 in /usr/local/lib/python3.10/dist-packages (from requests<3,>=2.27->streamlit) (2.0.7)\n",
            "Requirement already satisfied: certifi>=2017.4.17 in /usr/local/lib/python3.10/dist-packages (from requests<3,>=2.27->streamlit) (2024.6.2)\n",
            "Requirement already satisfied: markdown-it-py>=2.2.0 in /usr/local/lib/python3.10/dist-packages (from rich<14,>=10.14.0->streamlit) (3.0.0)\n",
            "Requirement already satisfied: pygments<3.0.0,>=2.13.0 in /usr/local/lib/python3.10/dist-packages (from rich<14,>=10.14.0->streamlit) (2.16.1)\n",
            "Requirement already satisfied: smmap<6,>=3.0.1 in /usr/local/lib/python3.10/dist-packages (from gitdb<5,>=4.0.1->gitpython!=3.1.19,<4,>=3.0.7->streamlit) (5.0.1)\n",
            "Requirement already satisfied: MarkupSafe>=2.0 in /usr/local/lib/python3.10/dist-packages (from jinja2->altair<6,>=4.0->streamlit) (2.1.5)\n",
            "Requirement already satisfied: attrs>=22.2.0 in /usr/local/lib/python3.10/dist-packages (from jsonschema>=3.0->altair<6,>=4.0->streamlit) (23.2.0)\n",
            "Requirement already satisfied: jsonschema-specifications>=2023.03.6 in /usr/local/lib/python3.10/dist-packages (from jsonschema>=3.0->altair<6,>=4.0->streamlit) (2023.12.1)\n",
            "Requirement already satisfied: referencing>=0.28.4 in /usr/local/lib/python3.10/dist-packages (from jsonschema>=3.0->altair<6,>=4.0->streamlit) (0.35.1)\n",
            "Requirement already satisfied: rpds-py>=0.7.1 in /usr/local/lib/python3.10/dist-packages (from jsonschema>=3.0->altair<6,>=4.0->streamlit) (0.18.1)\n",
            "Requirement already satisfied: mdurl~=0.1 in /usr/local/lib/python3.10/dist-packages (from markdown-it-py>=2.2.0->rich<14,>=10.14.0->streamlit) (0.1.2)\n",
            "Requirement already satisfied: six>=1.5 in /usr/local/lib/python3.10/dist-packages (from python-dateutil>=2.8.2->pandas<3,>=1.3.0->streamlit) (1.16.0)\n"
          ]
        }
      ],
      "source": [
        "pip install streamlit"
      ]
    },
    {
      "cell_type": "markdown",
      "metadata": {
        "id": "cElVgMRxsjjC"
      },
      "source": [
        "## Importing all necessary Libraries"
      ]
    },
    {
      "cell_type": "code",
      "execution_count": null,
      "metadata": {
        "id": "fFwSDrqRsrGI"
      },
      "outputs": [],
      "source": [
        "import pandas as pd\n",
        "import numpy as np\n",
        "from sklearn.model_selection import train_test_split\n",
        "from sklearn.linear_model import LinearRegression\n",
        "from sklearn.ensemble import RandomForestRegressor, GradientBoostingRegressor\n",
        "from sklearn.metrics import mean_squared_error, mean_absolute_error, r2_score\n",
        "import streamlit as st"
      ]
    },
    {
      "cell_type": "markdown",
      "metadata": {
        "id": "gBLH6C4-ssxN"
      },
      "source": [
        "##Loading Dataset & Getting a Preview"
      ]
    },
    {
      "cell_type": "code",
      "execution_count": null,
      "metadata": {
        "id": "TZALbyLHs0gy"
      },
      "outputs": [],
      "source": [
        "housing = pd.read_csv('property_rent_data.csv')\n"
      ]
    },
    {
      "cell_type": "markdown",
      "metadata": {
        "id": "Q4bsF6CFs97J"
      },
      "source": [
        "Dataset Preview"
      ]
    },
    {
      "cell_type": "code",
      "execution_count": null,
      "metadata": {
        "colab": {
          "base_uri": "https://localhost:8080/"
        },
        "collapsed": true,
        "id": "W9QbN3DLLKR4",
        "outputId": "78921010-1439-49a3-f4ac-345f3d4d8d9a"
      },
      "outputs": [
        {
          "data": {
            "application/vnd.google.colaboratory.intrinsic+json": {
              "summary": "{\n  \"name\": \"housing\",\n  \"rows\": 5880,\n  \"fields\": [\n    {\n      \"column\": \"Type\",\n      \"properties\": {\n        \"dtype\": \"category\",\n        \"num_unique_values\": 2,\n        \"samples\": [\n          \"PG\",\n          \"Flat\"\n        ],\n        \"semantic_type\": \"\",\n        \"description\": \"\"\n      }\n    },\n    {\n      \"column\": \"Number of Rooms\",\n      \"properties\": {\n        \"dtype\": \"number\",\n        \"std\": 1,\n        \"min\": 1,\n        \"max\": 4,\n        \"num_unique_values\": 4,\n        \"samples\": [\n          1,\n          2\n        ],\n        \"semantic_type\": \"\",\n        \"description\": \"\"\n      }\n    },\n    {\n      \"column\": \"Number of Bathrooms\",\n      \"properties\": {\n        \"dtype\": \"number\",\n        \"std\": 0,\n        \"min\": 1,\n        \"max\": 4,\n        \"num_unique_values\": 4,\n        \"samples\": [\n          2,\n          4\n        ],\n        \"semantic_type\": \"\",\n        \"description\": \"\"\n      }\n    },\n    {\n      \"column\": \"Area (sqft)\",\n      \"properties\": {\n        \"dtype\": \"number\",\n        \"std\": 282.36431742104423,\n        \"min\": 100.007,\n        \"max\": 1198.946,\n        \"num_unique_values\": 5855,\n        \"samples\": [\n          329.288,\n          541.422\n        ],\n        \"semantic_type\": \"\",\n        \"description\": \"\"\n      }\n    },\n    {\n      \"column\": \"Amenities Distance Avg (km)\",\n      \"properties\": {\n        \"dtype\": \"number\",\n        \"std\": 4.298144352923507,\n        \"min\": 0.1099,\n        \"max\": 14.9938,\n        \"num_unique_values\": 5764,\n        \"samples\": [\n          1.6134,\n          14.0181\n        ],\n        \"semantic_type\": \"\",\n        \"description\": \"\"\n      }\n    },\n    {\n      \"column\": \"Parking Spaces\",\n      \"properties\": {\n        \"dtype\": \"number\",\n        \"std\": 0,\n        \"min\": 0,\n        \"max\": 2,\n        \"num_unique_values\": 3,\n        \"samples\": [\n          0,\n          2\n        ],\n        \"semantic_type\": \"\",\n        \"description\": \"\"\n      }\n    },\n    {\n      \"column\": \"Age (years)\",\n      \"properties\": {\n        \"dtype\": \"number\",\n        \"std\": 7.185014817837659,\n        \"min\": 0.0,\n        \"max\": 25.0,\n        \"num_unique_values\": 251,\n        \"samples\": [\n          11.3,\n          17.4\n        ],\n        \"semantic_type\": \"\",\n        \"description\": \"\"\n      }\n    },\n    {\n      \"column\": \"Location\",\n      \"properties\": {\n        \"dtype\": \"category\",\n        \"num_unique_values\": 9,\n        \"samples\": [\n          \"Faridabad\",\n          \"Mayur Vihar\"\n        ],\n        \"semantic_type\": \"\",\n        \"description\": \"\"\n      }\n    },\n    {\n      \"column\": \"Crime Rate\",\n      \"properties\": {\n        \"dtype\": \"number\",\n        \"std\": 0.57410800912748,\n        \"min\": 0.01,\n        \"max\": 2.0,\n        \"num_unique_values\": 200,\n        \"samples\": [\n          0.48,\n          0.91\n        ],\n        \"semantic_type\": \"\",\n        \"description\": \"\"\n      }\n    },\n    {\n      \"column\": \"Lower Status Population\",\n      \"properties\": {\n        \"dtype\": \"number\",\n        \"std\": 2.8959648445038746,\n        \"min\": 0.01,\n        \"max\": 10.0,\n        \"num_unique_values\": 998,\n        \"samples\": [\n          5.68,\n          2.5\n        ],\n        \"semantic_type\": \"\",\n        \"description\": \"\"\n      }\n    },\n    {\n      \"column\": \"Avg People in Building\",\n      \"properties\": {\n        \"dtype\": \"number\",\n        \"std\": 17.045001020720797,\n        \"min\": 1.0028,\n        \"max\": 59.991,\n        \"num_unique_values\": 5847,\n        \"samples\": [\n          49.5159,\n          12.7181\n        ],\n        \"semantic_type\": \"\",\n        \"description\": \"\"\n      }\n    },\n    {\n      \"column\": \"Rent Price\",\n      \"properties\": {\n        \"dtype\": \"number\",\n        \"std\": 12941.776457519314,\n        \"min\": 7032.954254362889,\n        \"max\": 68671.30274488014,\n        \"num_unique_values\": 5880,\n        \"samples\": [\n          15499.91101536435,\n          8676.988357312292\n        ],\n        \"semantic_type\": \"\",\n        \"description\": \"\"\n      }\n    }\n  ]\n}",
              "type": "dataframe",
              "variable_name": "housing"
            },
            "text/html": [
              "\n",
              "  <div id=\"df-bbd76a73-bc31-4b2a-960c-19febafa834c\" class=\"colab-df-container\">\n",
              "    <div>\n",
              "<style scoped>\n",
              "    .dataframe tbody tr th:only-of-type {\n",
              "        vertical-align: middle;\n",
              "    }\n",
              "\n",
              "    .dataframe tbody tr th {\n",
              "        vertical-align: top;\n",
              "    }\n",
              "\n",
              "    .dataframe thead th {\n",
              "        text-align: right;\n",
              "    }\n",
              "</style>\n",
              "<table border=\"1\" class=\"dataframe\">\n",
              "  <thead>\n",
              "    <tr style=\"text-align: right;\">\n",
              "      <th></th>\n",
              "      <th>Type</th>\n",
              "      <th>Number of Rooms</th>\n",
              "      <th>Number of Bathrooms</th>\n",
              "      <th>Area (sqft)</th>\n",
              "      <th>Amenities Distance Avg (km)</th>\n",
              "      <th>Parking Spaces</th>\n",
              "      <th>Age (years)</th>\n",
              "      <th>Location</th>\n",
              "      <th>Crime Rate</th>\n",
              "      <th>Lower Status Population</th>\n",
              "      <th>Avg People in Building</th>\n",
              "      <th>Rent Price</th>\n",
              "    </tr>\n",
              "  </thead>\n",
              "  <tbody>\n",
              "    <tr>\n",
              "      <th>0</th>\n",
              "      <td>Flat</td>\n",
              "      <td>4</td>\n",
              "      <td>1</td>\n",
              "      <td>922.441</td>\n",
              "      <td>2.0858</td>\n",
              "      <td>0</td>\n",
              "      <td>22.3</td>\n",
              "      <td>Saket</td>\n",
              "      <td>1.29</td>\n",
              "      <td>0.24</td>\n",
              "      <td>43.8702</td>\n",
              "      <td>42641.971016</td>\n",
              "    </tr>\n",
              "    <tr>\n",
              "      <th>1</th>\n",
              "      <td>PG</td>\n",
              "      <td>1</td>\n",
              "      <td>1</td>\n",
              "      <td>156.777</td>\n",
              "      <td>14.2736</td>\n",
              "      <td>0</td>\n",
              "      <td>8.7</td>\n",
              "      <td>Mayur Vihar</td>\n",
              "      <td>0.84</td>\n",
              "      <td>8.53</td>\n",
              "      <td>2.3291</td>\n",
              "      <td>8924.301837</td>\n",
              "    </tr>\n",
              "    <tr>\n",
              "      <th>2</th>\n",
              "      <td>Flat</td>\n",
              "      <td>4</td>\n",
              "      <td>2</td>\n",
              "      <td>994.201</td>\n",
              "      <td>14.8662</td>\n",
              "      <td>2</td>\n",
              "      <td>14.2</td>\n",
              "      <td>Mayur Vihar</td>\n",
              "      <td>1.43</td>\n",
              "      <td>6.40</td>\n",
              "      <td>49.8276</td>\n",
              "      <td>47633.595382</td>\n",
              "    </tr>\n",
              "    <tr>\n",
              "      <th>3</th>\n",
              "      <td>Flat</td>\n",
              "      <td>3</td>\n",
              "      <td>2</td>\n",
              "      <td>618.653</td>\n",
              "      <td>8.5457</td>\n",
              "      <td>2</td>\n",
              "      <td>15.6</td>\n",
              "      <td>Vasant Kunj</td>\n",
              "      <td>0.72</td>\n",
              "      <td>1.98</td>\n",
              "      <td>46.9214</td>\n",
              "      <td>38008.168384</td>\n",
              "    </tr>\n",
              "    <tr>\n",
              "      <th>4</th>\n",
              "      <td>Flat</td>\n",
              "      <td>3</td>\n",
              "      <td>1</td>\n",
              "      <td>799.278</td>\n",
              "      <td>3.1601</td>\n",
              "      <td>1</td>\n",
              "      <td>16.3</td>\n",
              "      <td>New Delhi</td>\n",
              "      <td>1.37</td>\n",
              "      <td>1.82</td>\n",
              "      <td>27.9711</td>\n",
              "      <td>43123.397382</td>\n",
              "    </tr>\n",
              "  </tbody>\n",
              "</table>\n",
              "</div>\n",
              "    <div class=\"colab-df-buttons\">\n",
              "\n",
              "  <div class=\"colab-df-container\">\n",
              "    <button class=\"colab-df-convert\" onclick=\"convertToInteractive('df-bbd76a73-bc31-4b2a-960c-19febafa834c')\"\n",
              "            title=\"Convert this dataframe to an interactive table.\"\n",
              "            style=\"display:none;\">\n",
              "\n",
              "  <svg xmlns=\"http://www.w3.org/2000/svg\" height=\"24px\" viewBox=\"0 -960 960 960\">\n",
              "    <path d=\"M120-120v-720h720v720H120Zm60-500h600v-160H180v160Zm220 220h160v-160H400v160Zm0 220h160v-160H400v160ZM180-400h160v-160H180v160Zm440 0h160v-160H620v160ZM180-180h160v-160H180v160Zm440 0h160v-160H620v160Z\"/>\n",
              "  </svg>\n",
              "    </button>\n",
              "\n",
              "  <style>\n",
              "    .colab-df-container {\n",
              "      display:flex;\n",
              "      gap: 12px;\n",
              "    }\n",
              "\n",
              "    .colab-df-convert {\n",
              "      background-color: #E8F0FE;\n",
              "      border: none;\n",
              "      border-radius: 50%;\n",
              "      cursor: pointer;\n",
              "      display: none;\n",
              "      fill: #1967D2;\n",
              "      height: 32px;\n",
              "      padding: 0 0 0 0;\n",
              "      width: 32px;\n",
              "    }\n",
              "\n",
              "    .colab-df-convert:hover {\n",
              "      background-color: #E2EBFA;\n",
              "      box-shadow: 0px 1px 2px rgba(60, 64, 67, 0.3), 0px 1px 3px 1px rgba(60, 64, 67, 0.15);\n",
              "      fill: #174EA6;\n",
              "    }\n",
              "\n",
              "    .colab-df-buttons div {\n",
              "      margin-bottom: 4px;\n",
              "    }\n",
              "\n",
              "    [theme=dark] .colab-df-convert {\n",
              "      background-color: #3B4455;\n",
              "      fill: #D2E3FC;\n",
              "    }\n",
              "\n",
              "    [theme=dark] .colab-df-convert:hover {\n",
              "      background-color: #434B5C;\n",
              "      box-shadow: 0px 1px 3px 1px rgba(0, 0, 0, 0.15);\n",
              "      filter: drop-shadow(0px 1px 2px rgba(0, 0, 0, 0.3));\n",
              "      fill: #FFFFFF;\n",
              "    }\n",
              "  </style>\n",
              "\n",
              "    <script>\n",
              "      const buttonEl =\n",
              "        document.querySelector('#df-bbd76a73-bc31-4b2a-960c-19febafa834c button.colab-df-convert');\n",
              "      buttonEl.style.display =\n",
              "        google.colab.kernel.accessAllowed ? 'block' : 'none';\n",
              "\n",
              "      async function convertToInteractive(key) {\n",
              "        const element = document.querySelector('#df-bbd76a73-bc31-4b2a-960c-19febafa834c');\n",
              "        const dataTable =\n",
              "          await google.colab.kernel.invokeFunction('convertToInteractive',\n",
              "                                                    [key], {});\n",
              "        if (!dataTable) return;\n",
              "\n",
              "        const docLinkHtml = 'Like what you see? Visit the ' +\n",
              "          '<a target=\"_blank\" href=https://colab.research.google.com/notebooks/data_table.ipynb>data table notebook</a>'\n",
              "          + ' to learn more about interactive tables.';\n",
              "        element.innerHTML = '';\n",
              "        dataTable['output_type'] = 'display_data';\n",
              "        await google.colab.output.renderOutput(dataTable, element);\n",
              "        const docLink = document.createElement('div');\n",
              "        docLink.innerHTML = docLinkHtml;\n",
              "        element.appendChild(docLink);\n",
              "      }\n",
              "    </script>\n",
              "  </div>\n",
              "\n",
              "\n",
              "<div id=\"df-897e3b93-3e5d-4f64-b03c-9f254491d59b\">\n",
              "  <button class=\"colab-df-quickchart\" onclick=\"quickchart('df-897e3b93-3e5d-4f64-b03c-9f254491d59b')\"\n",
              "            title=\"Suggest charts\"\n",
              "            style=\"display:none;\">\n",
              "\n",
              "<svg xmlns=\"http://www.w3.org/2000/svg\" height=\"24px\"viewBox=\"0 0 24 24\"\n",
              "     width=\"24px\">\n",
              "    <g>\n",
              "        <path d=\"M19 3H5c-1.1 0-2 .9-2 2v14c0 1.1.9 2 2 2h14c1.1 0 2-.9 2-2V5c0-1.1-.9-2-2-2zM9 17H7v-7h2v7zm4 0h-2V7h2v10zm4 0h-2v-4h2v4z\"/>\n",
              "    </g>\n",
              "</svg>\n",
              "  </button>\n",
              "\n",
              "<style>\n",
              "  .colab-df-quickchart {\n",
              "      --bg-color: #E8F0FE;\n",
              "      --fill-color: #1967D2;\n",
              "      --hover-bg-color: #E2EBFA;\n",
              "      --hover-fill-color: #174EA6;\n",
              "      --disabled-fill-color: #AAA;\n",
              "      --disabled-bg-color: #DDD;\n",
              "  }\n",
              "\n",
              "  [theme=dark] .colab-df-quickchart {\n",
              "      --bg-color: #3B4455;\n",
              "      --fill-color: #D2E3FC;\n",
              "      --hover-bg-color: #434B5C;\n",
              "      --hover-fill-color: #FFFFFF;\n",
              "      --disabled-bg-color: #3B4455;\n",
              "      --disabled-fill-color: #666;\n",
              "  }\n",
              "\n",
              "  .colab-df-quickchart {\n",
              "    background-color: var(--bg-color);\n",
              "    border: none;\n",
              "    border-radius: 50%;\n",
              "    cursor: pointer;\n",
              "    display: none;\n",
              "    fill: var(--fill-color);\n",
              "    height: 32px;\n",
              "    padding: 0;\n",
              "    width: 32px;\n",
              "  }\n",
              "\n",
              "  .colab-df-quickchart:hover {\n",
              "    background-color: var(--hover-bg-color);\n",
              "    box-shadow: 0 1px 2px rgba(60, 64, 67, 0.3), 0 1px 3px 1px rgba(60, 64, 67, 0.15);\n",
              "    fill: var(--button-hover-fill-color);\n",
              "  }\n",
              "\n",
              "  .colab-df-quickchart-complete:disabled,\n",
              "  .colab-df-quickchart-complete:disabled:hover {\n",
              "    background-color: var(--disabled-bg-color);\n",
              "    fill: var(--disabled-fill-color);\n",
              "    box-shadow: none;\n",
              "  }\n",
              "\n",
              "  .colab-df-spinner {\n",
              "    border: 2px solid var(--fill-color);\n",
              "    border-color: transparent;\n",
              "    border-bottom-color: var(--fill-color);\n",
              "    animation:\n",
              "      spin 1s steps(1) infinite;\n",
              "  }\n",
              "\n",
              "  @keyframes spin {\n",
              "    0% {\n",
              "      border-color: transparent;\n",
              "      border-bottom-color: var(--fill-color);\n",
              "      border-left-color: var(--fill-color);\n",
              "    }\n",
              "    20% {\n",
              "      border-color: transparent;\n",
              "      border-left-color: var(--fill-color);\n",
              "      border-top-color: var(--fill-color);\n",
              "    }\n",
              "    30% {\n",
              "      border-color: transparent;\n",
              "      border-left-color: var(--fill-color);\n",
              "      border-top-color: var(--fill-color);\n",
              "      border-right-color: var(--fill-color);\n",
              "    }\n",
              "    40% {\n",
              "      border-color: transparent;\n",
              "      border-right-color: var(--fill-color);\n",
              "      border-top-color: var(--fill-color);\n",
              "    }\n",
              "    60% {\n",
              "      border-color: transparent;\n",
              "      border-right-color: var(--fill-color);\n",
              "    }\n",
              "    80% {\n",
              "      border-color: transparent;\n",
              "      border-right-color: var(--fill-color);\n",
              "      border-bottom-color: var(--fill-color);\n",
              "    }\n",
              "    90% {\n",
              "      border-color: transparent;\n",
              "      border-bottom-color: var(--fill-color);\n",
              "    }\n",
              "  }\n",
              "</style>\n",
              "\n",
              "  <script>\n",
              "    async function quickchart(key) {\n",
              "      const quickchartButtonEl =\n",
              "        document.querySelector('#' + key + ' button');\n",
              "      quickchartButtonEl.disabled = true;  // To prevent multiple clicks.\n",
              "      quickchartButtonEl.classList.add('colab-df-spinner');\n",
              "      try {\n",
              "        const charts = await google.colab.kernel.invokeFunction(\n",
              "            'suggestCharts', [key], {});\n",
              "      } catch (error) {\n",
              "        console.error('Error during call to suggestCharts:', error);\n",
              "      }\n",
              "      quickchartButtonEl.classList.remove('colab-df-spinner');\n",
              "      quickchartButtonEl.classList.add('colab-df-quickchart-complete');\n",
              "    }\n",
              "    (() => {\n",
              "      let quickchartButtonEl =\n",
              "        document.querySelector('#df-897e3b93-3e5d-4f64-b03c-9f254491d59b button');\n",
              "      quickchartButtonEl.style.display =\n",
              "        google.colab.kernel.accessAllowed ? 'block' : 'none';\n",
              "    })();\n",
              "  </script>\n",
              "</div>\n",
              "\n",
              "    </div>\n",
              "  </div>\n"
            ],
            "text/plain": [
              "   Type  Number of Rooms  Number of Bathrooms  Area (sqft)  \\\n",
              "0  Flat                4                    1      922.441   \n",
              "1    PG                1                    1      156.777   \n",
              "2  Flat                4                    2      994.201   \n",
              "3  Flat                3                    2      618.653   \n",
              "4  Flat                3                    1      799.278   \n",
              "\n",
              "   Amenities Distance Avg (km)  Parking Spaces  Age (years)     Location  \\\n",
              "0                       2.0858               0         22.3        Saket   \n",
              "1                      14.2736               0          8.7  Mayur Vihar   \n",
              "2                      14.8662               2         14.2  Mayur Vihar   \n",
              "3                       8.5457               2         15.6  Vasant Kunj   \n",
              "4                       3.1601               1         16.3    New Delhi   \n",
              "\n",
              "   Crime Rate  Lower Status Population  Avg People in Building    Rent Price  \n",
              "0        1.29                     0.24                 43.8702  42641.971016  \n",
              "1        0.84                     8.53                  2.3291   8924.301837  \n",
              "2        1.43                     6.40                 49.8276  47633.595382  \n",
              "3        0.72                     1.98                 46.9214  38008.168384  \n",
              "4        1.37                     1.82                 27.9711  43123.397382  "
            ]
          },
          "execution_count": 15,
          "metadata": {},
          "output_type": "execute_result"
        }
      ],
      "source": [
        "housing.head()"
      ]
    },
    {
      "cell_type": "markdown",
      "metadata": {
        "id": "SI_1QciXLHjC"
      },
      "source": [
        "\n",
        "## Display information about the dataset"
      ]
    },
    {
      "cell_type": "code",
      "execution_count": null,
      "metadata": {
        "id": "KIsWX5Whm50V"
      },
      "outputs": [],
      "source": [
        "st.write(\"## Flat/PG Rent Prediction\")\n",
        "st.write(\"### Sample Dataset\")\n",
        "st.write(housing.head())"
      ]
    },
    {
      "cell_type": "markdown",
      "metadata": {
        "id": "n7hWDR7UMnqc"
      },
      "source": [
        "## Check for missing values"
      ]
    },
    {
      "cell_type": "code",
      "execution_count": null,
      "metadata": {
        "id": "3eA4E3XAMmn8"
      },
      "outputs": [],
      "source": [
        "missing_values = housing.isnull().sum()\n",
        "if missing_values.any():\n",
        "    st.write(\"### Missing Values in Dataset\")\n",
        "    st.write(missing_values)\n",
        "    st.warning(\"Dataset contains missing values. Please preprocess accordingly.\")\n"
      ]
    },
    {
      "cell_type": "markdown",
      "metadata": {
        "id": "N-0EXeJgMsku"
      },
      "source": [
        "## Separate features and target variable"
      ]
    },
    {
      "cell_type": "code",
      "execution_count": null,
      "metadata": {
        "id": "3GD5T_bSMxkq"
      },
      "outputs": [],
      "source": [
        "X = housing.drop('Rent Price', axis=1)  # Features\n",
        "y = housing['Rent Price']  # Target variable"
      ]
    },
    {
      "cell_type": "markdown",
      "metadata": {
        "id": "wy5osRHCM08J"
      },
      "source": [
        "## Preprocess categorical variables (one-hot encoding)"
      ]
    },
    {
      "cell_type": "code",
      "execution_count": null,
      "metadata": {
        "id": "BjM9Osg6M6Ei"
      },
      "outputs": [],
      "source": [
        "X = pd.get_dummies(X, drop_first=True)  # One-hot encode categorical variables"
      ]
    },
    {
      "cell_type": "markdown",
      "metadata": {
        "id": "HZnCPe35NAs2"
      },
      "source": [
        "## Train-Test Split"
      ]
    },
    {
      "cell_type": "code",
      "execution_count": null,
      "metadata": {
        "id": "j8bBtAFdNEQA"
      },
      "outputs": [],
      "source": [
        "X_train, X_test, y_train, y_test = train_test_split(X, y, test_size=0.2, random_state=42)"
      ]
    },
    {
      "cell_type": "markdown",
      "metadata": {
        "id": "1pLBkd8HM5Pr"
      },
      "source": [
        "## Train multiple models"
      ]
    },
    {
      "cell_type": "code",
      "execution_count": 123,
      "metadata": {
        "id": "hcNHUxrLNM9t"
      },
      "outputs": [],
      "source": [
        "\n",
        "models = {\n",
        "    #\"Linear Regression\": LinearRegression(),\n",
        "    #\"Random Forest\": RandomForestRegressor(),\n",
        "    \"Gradient Booster\": GradientBoostingRegressor()\n",
        "}"
      ]
    },
    {
      "cell_type": "markdown",
      "metadata": {
        "id": "z50Ky2pSNeCW"
      },
      "source": [
        "##Evaluation Metrics - R-squared, MSE, RMSE, MAE"
      ]
    },
    {
      "cell_type": "code",
      "execution_count": 124,
      "metadata": {
        "id": "uM9wrZmGNUVM"
      },
      "outputs": [],
      "source": [
        "model_performance = {}\n",
        "model_statistics = {}\n",
        "\n",
        "\n",
        "for model_name, model in models.items():\n",
        "    model.fit(X_train, y_train)\n",
        "    y_pred_train = model.predict(X_train)\n",
        "    y_pred_test = model.predict(X_test)\n",
        "    train_r2 = r2_score(y_train, y_pred_train)\n",
        "    test_r2 = r2_score(y_test, y_pred_test)\n",
        "    test_mse = mean_squared_error(y_test, y_pred_test)\n",
        "    test_rmse = np.sqrt(test_mse)\n",
        "    test_mae = mean_absolute_error(y_test, y_pred_test)"
      ]
    },
    {
      "cell_type": "code",
      "execution_count": 125,
      "metadata": {
        "id": "bcGlJpcoNXfE"
      },
      "outputs": [],
      "source": [
        " model_performance[model_name] = {\n",
        "        \"Train R2\": train_r2,\n",
        "        \"Test R2\": test_r2,\n",
        "        \"Test MSE\": test_mse,\n",
        "        \"Test RMSE\": test_rmse,\n",
        "        \"Test MAE\": test_mae\n",
        "    }"
      ]
    },
    {
      "cell_type": "code",
      "execution_count": 126,
      "metadata": {
        "colab": {
          "base_uri": "https://localhost:8080/"
        },
        "id": "tiJIYzsjNttx",
        "outputId": "c3f56af6-692c-4bcc-b3e6-c485dccca5e2"
      },
      "outputs": [
        {
          "name": "stdout",
          "output_type": "stream",
          "text": [
            "Model: Gradient Booster\n",
            "Train R2: 0.9969405038749669\n",
            "Test R2: 0.9957105411882591\n",
            "Test MSE: 715034.8020481498\n",
            "Test RMSE: 845.5973048964559\n",
            "Test MAE: 679.8078337152535\n",
            "\n"
          ]
        }
      ],
      "source": [
        "# Print the performance metrics to the terminal\n",
        "print(f\"Model: {model_name}\")\n",
        "print(f\"Train R2: {train_r2}\")\n",
        "print(f\"Test R2: {test_r2}\")\n",
        "print(f\"Test MSE: {test_mse}\")\n",
        "print(f\"Test RMSE: {test_rmse}\")\n",
        "print(f\"Test MAE: {test_mae}\")\n",
        "print(\"\")"
      ]
    },
    {
      "cell_type": "code",
      "execution_count": 127,
      "metadata": {
        "id": "hcYD9Kh_N5kp"
      },
      "outputs": [],
      "source": [
        "model_performance_df = pd.DataFrame(model_performance).T\n",
        "best_model_name = model_performance_df['Test R2'].idxmax()\n",
        "best_model = models[best_model_name]\n"
      ]
    },
    {
      "cell_type": "markdown",
      "metadata": {
        "id": "mF1PmgWaUXDx"
      },
      "source": [
        "##Model Statistics"
      ]
    },
    {
      "cell_type": "code",
      "execution_count": 128,
      "metadata": {
        "id": "2xhGTkX_Wa_p"
      },
      "outputs": [],
      "source": [
        "residuals = y_test - y_pred_test\n",
        "difference_percent = (residuals / y_test) * 100\n",
        "\n",
        "statistics = {\n",
        "        \"Prediction\": y_pred_test,\n",
        "        \"Target\": y_test,\n",
        "        \"Residual\": residuals,\n",
        "        \"Difference%\": difference_percent\n",
        "    }\n",
        "statistics_df = pd.DataFrame(statistics)\n",
        "model_statistics[model_name] = statistics_df.describe()"
      ]
    },
    {
      "cell_type": "code",
      "execution_count": 129,
      "metadata": {
        "colab": {
          "base_uri": "https://localhost:8080/"
        },
        "id": "OgFH128gXMGd",
        "outputId": "d34f5ec5-b189-49ad-ac93-1ab0e4bd686e"
      },
      "outputs": [
        {
          "name": "stdout",
          "output_type": "stream",
          "text": [
            "## Model Performance Metrics\n",
            "                    Test MAE       Test MSE   Test R2   Test RMSE  Train R2\n",
            "Gradient Booster  679.807834  715034.802048  0.995711  845.597305  0.996941\n",
            "### Gradient Booster:\n",
            "         Prediction        Target     Residual  Difference%\n",
            "count   1176.000000   1176.000000  1176.000000  1176.000000\n",
            "mean   25684.129206  25671.325434   -12.803772    -0.556522\n",
            "std    12726.545250  12916.565978   845.860075     4.295016\n",
            "min     8213.524109   7032.954254 -2959.730405   -21.947391\n",
            "25%    14601.069989  14457.304053  -621.231950    -2.755498\n",
            "50%    22652.859011  22550.039252    -1.532981    -0.010881\n",
            "75%    36294.182109  35816.072695   575.566925     2.226874\n",
            "max    63900.427646  65404.474401  3209.211187    11.711150\n"
          ]
        }
      ],
      "source": [
        "model_performance_df = pd.DataFrame(model_performance).T\n",
        "print(\"## Model Performance Metrics\")\n",
        "print(model_performance_df)\n",
        "\n",
        "# Display detailed statistics for each model\n",
        "for model_name, stats in model_statistics.items():\n",
        "    print(f\"### {model_name}:\")\n",
        "    print(stats)"
      ]
    },
    {
      "cell_type": "markdown",
      "metadata": {
        "id": "Vdc75h49N-Ps"
      },
      "source": [
        "## Function to predict rent based on user input"
      ]
    },
    {
      "cell_type": "code",
      "execution_count": 130,
      "metadata": {
        "id": "ddVS2zbLN_ym"
      },
      "outputs": [],
      "source": [
        "def predict_rent(input_data, model):\n",
        "    # Transform input data (ensure it matches the training data format)\n",
        "    input_features = pd.DataFrame(input_data, index=[0])\n",
        "    input_features = pd.get_dummies(input_features, drop_first=True)\n",
        "\n",
        "    # Align input features with the training data\n",
        "    missing_cols = set(X.columns) - set(input_features.columns)\n",
        "    for col in missing_cols:\n",
        "        input_features[col] = 0\n",
        "    input_features = input_features[X.columns]\n",
        "\n",
        "    # Predict rent price\n",
        "    predicted_rent = model.predict(input_features)\n",
        "    return predicted_rent[0]"
      ]
    },
    {
      "cell_type": "markdown",
      "metadata": {
        "id": "5zCLvVyFOGTE"
      },
      "source": [
        "## Streamlit app for user input and prediction"
      ]
    },
    {
      "cell_type": "code",
      "execution_count": 131,
      "metadata": {
        "colab": {
          "base_uri": "https://localhost:8080/"
        },
        "id": "3aPgUDF4OLwV",
        "outputId": "161aac3d-8ec7-4112-de33-69db0f46103f"
      },
      "outputs": [
        {
          "data": {
            "text/plain": [
              "DeltaGenerator(_root_container=1, _parent=DeltaGenerator())"
            ]
          },
          "execution_count": 131,
          "metadata": {},
          "output_type": "execute_result"
        }
      ],
      "source": [
        "st.sidebar.title(\"House Rent Prediction App\")"
      ]
    },
    {
      "cell_type": "code",
      "execution_count": 132,
      "metadata": {
        "id": "GqJtjYYROTxr"
      },
      "outputs": [],
      "source": [
        "# Input fields for user to enter property details\n",
        "st.sidebar.header(\"Enter Property Details\")\n",
        "input_features = {}\n",
        "for col in X.columns:\n",
        "    if col.startswith('Type') or col.startswith('Location'):  # Handle categorical columns separately\n",
        "        original_col = col.split('_')[0]\n",
        "        if original_col not in input_features:\n",
        "            input_features[original_col] = st.sidebar.selectbox(original_col, sorted(housing[original_col].unique()))\n",
        "    else:\n",
        "        col_min = float(X[col].min()) if not pd.isnull(X[col].min()) else 0.0\n",
        "        col_max = float(X[col].max()) if not pd.isnull(X[col].max()) else 0.0\n",
        "        col_mean = float(X[col].mean()) if not pd.isnull(X[col].mean()) else 0.0\n",
        "        input_features[col] = st.sidebar.number_input(col, min_value=col_min, max_value=col_max, value=col_mean)\n",
        "\n",
        "# Predict button\n",
        "if st.sidebar.button(\"Predict Rent\"):\n",
        "    input_data = pd.DataFrame([input_features])\n",
        "    predicted_price = predict_rent(input_data, best_model)\n",
        "    st.sidebar.success(f\"Predicted Rent Price: Rs.{predicted_price:.2f}\")"
      ]
    }
  ],
  "metadata": {
    "colab": {
      "collapsed_sections": [
        "cElVgMRxsjjC",
        "gBLH6C4-ssxN",
        "SI_1QciXLHjC",
        "n7hWDR7UMnqc",
        "N-0EXeJgMsku",
        "wy5osRHCM08J",
        "HZnCPe35NAs2",
        "1pLBkd8HM5Pr",
        "z50Ky2pSNeCW",
        "Vdc75h49N-Ps",
        "5zCLvVyFOGTE"
      ],
      "provenance": []
    },
    "kernelspec": {
      "display_name": "Python 3",
      "name": "python3"
    },
    "language_info": {
      "name": "python"
    }
  },
  "nbformat": 4,
  "nbformat_minor": 0
}
